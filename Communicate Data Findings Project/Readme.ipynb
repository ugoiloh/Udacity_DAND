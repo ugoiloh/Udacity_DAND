{
 "cells": [
  {
   "cell_type": "markdown",
   "metadata": {},
   "source": [
    "### Dataset used\n",
    "> Ford GoBike System Data was the dataset I used for this project.\n",
    "\n",
    "### Main findings\n",
    "\n",
    "- The Fordgo company received the highest patronage from casual users in May 2020\n",
    "- The preference for electric bikes is high among users.\n",
    "- Electric bikes are faster.\n",
    "- Subscribed users (members) generally ride short distances\n",
    "- The casual users generally use bike services more for outdoor activities, hence they spend more time on rides.\n",
    "- More rides are doneon weekends.\n",
    "- Users ride more often during evening hours.\n",
    "- Trips started around 12am and 4-5am takes more.\n",
    "\n",
    "> For the explanary analysis, the results I choose was those showing how start and end time attributes relates to user type and bike type\n",
    "\n",
    "### Resources\n",
    "- [Visualization with Matplotlib](https://www.oreilly.com/library/view/python-data-science/9781491912126/ch04.html)\n",
    "- [Seaborn documentation](https://seaborn.pydata.org/)\n",
    "- [Matplotlib documentation](https://matplotlib.org/)"
   ]
  },
  {
   "cell_type": "code",
   "execution_count": null,
   "metadata": {},
   "outputs": [],
   "source": [
    "jupyter nbconvert Explanatory_Visualization_Slide_Deck.ipynb --to slides --post serve --template output_toggle"
   ]
  }
 ],
 "metadata": {
  "kernelspec": {
   "display_name": "Python 3",
   "language": "python",
   "name": "python3"
  },
  "language_info": {
   "codemirror_mode": {
    "name": "ipython",
    "version": 3
   },
   "file_extension": ".py",
   "mimetype": "text/x-python",
   "name": "python",
   "nbconvert_exporter": "python",
   "pygments_lexer": "ipython3",
   "version": "3.7.6"
  }
 },
 "nbformat": 4,
 "nbformat_minor": 4
}
